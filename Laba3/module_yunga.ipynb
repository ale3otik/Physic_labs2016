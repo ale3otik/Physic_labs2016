{
 "cells": [
  {
   "cell_type": "code",
   "execution_count": 100,
   "metadata": {
    "collapsed": false
   },
   "outputs": [],
   "source": [
    "from math import *\n",
    "import numpy as np\n",
    "import matplotlib.pyplot as plt\n",
    "%matplotlib inline\n",
    "# d = 0.46\n",
    "# S = pi * d**2 / 4\n",
    "# l0 = 177 \n",
    "# Tmax = 900\n",
    "\n",
    "# mg = 498\n",
    "# mg2 = 494\n",
    "# m = [463 , 493 , 494 , 477 , 461]\n",
    "# n = 4\n",
    "# X1 = [41.9 , 36.2 , 31.1 , 26.4 , 31.1 , 35.8 , 41.6] #12,123,1234,12345\n",
    "# X2 = [41.6 , 36.8  , 31.2 , 26.9 , 30.9 , 35.7 , 41.5]\n",
    "# X3 = [47.4 , 41.3 , 31 , 47.8] #1 ,12 ,1234 , 1\n",
    "# print(0.3 * Tmax * S)"
   ]
  },
  {
   "cell_type": "code",
   "execution_count": 101,
   "metadata": {
    "collapsed": true
   },
   "outputs": [],
   "source": [
    "idx = [0,1,2,3,4,3,2,1,0]\n",
    "cnt = np.zeros(len(idx))\n",
    "m = [498 ,  992 ,  1455 ,  1948 , 2442 , 1948 ,  1455 ,  992 ,  498]\n",
    "dl1 = [0.13 , 0.25 , 0.35 , 0.47 , 0.57 , 0.48 , 0.38 , 0.25 , 0.13]\n",
    "dl2 = [0.13 , 0.25 , 0.36 , 0.48 , 0.58 , 0.48 , 0.37 , 0.25 , 0.13]"
   ]
  },
  {
   "cell_type": "code",
   "execution_count": 102,
   "metadata": {
    "collapsed": false
   },
   "outputs": [
    {
     "name": "stdout",
     "output_type": "stream",
     "text": [
      "[ 0.13    0.25    0.365   0.4775  0.575 ]\n"
     ]
    }
   ],
   "source": [
    "dl = np.zeros(5)\n",
    "for i in range(len(m)) :\n",
    "    dl[idx[i]] += dl1[i] \n",
    "    dl[idx[i]] += dl2[i] \n",
    "    cnt[idx[i]] += 2\n",
    "\n",
    "for i in range(len(dl)) :\n",
    "    dl[i] = dl[i] / cnt[i]\n",
    "print(dl)\n"
   ]
  },
  {
   "cell_type": "code",
   "execution_count": 103,
   "metadata": {
    "collapsed": false
   },
   "outputs": [],
   "source": [
    "dl = np.array(dl)\n",
    "M = np.array([498 ,  992 ,  1455 ,  1948 , 2442])\n",
    "P = M * 9.81 / 1000.0"
   ]
  },
  {
   "cell_type": "code",
   "execution_count": 104,
   "metadata": {
    "collapsed": false
   },
   "outputs": [
    {
     "name": "stdout",
     "output_type": "stream",
     "text": [
      "0.0235087886905\n",
      "0.0211786745818\n",
      "0.000463149735158\n",
      "0.00311268872427\n"
     ]
    }
   ],
   "source": [
    "X = P\n",
    "Y = dl\n",
    "th = np.polyfit(X,Y,1)\n",
    "k = th[0]\n",
    "b = th[1]\n",
    "\n",
    "print(k)\n",
    "print(b)\n",
    "\n",
    "sk = 1/(len(X)**0.5) * ((np.mean(Y**2) -  np.mean(Y)**2)/(np.mean(X**2) -  np.mean(X)**2) - k**2) **0.5\n",
    "sb = sk * ((np.mean(X**2) -  np.mean(X)**2))**0.5\n",
    "print(sk)\n",
    "print(sb)\n",
    "\n",
    "OY = [k * x + b for x in X]\n",
    "\n",
    "# DY = [[ y - 129.4 , y + 129.4] for y in Y]\n"
   ]
  },
  {
   "cell_type": "code",
   "execution_count": 105,
   "metadata": {
    "collapsed": false
   },
   "outputs": [
    {
     "data": {
      "image/png": "[encoded data removed]",
      "text/plain": [
       "<matplotlib.figure.Figure at 0x10a1c6978>"
      ]
     },
     "metadata": {},
     "output_type": "display_data"
    }
   ],
   "source": [
    "plt.figure(figsize=(15,8))\n",
    "plt.grid(True)\n",
    "plt.title(r'$\\Delta l (P)$',size=20)\n",
    "plt.xlabel(r'$P$,H',size=20)\n",
    "plt.ylabel(r'$\\Delta l$,mm',size=20)\n",
    "plt.scatter(P,dl,s=130 ,marker='+',color='g')\n",
    "plt.plot(P,dl,'-b', alpha=0.9)\n",
    "plt.plot(X,OY,'--r')\n",
    "plt.xlim([4,24.4])\n",
    "plt.ylim([0.1,0.6])\n",
    "plt.savefig('graph.png') \n",
    "plt.show()\n"
   ]
  },
  {
   "cell_type": "code",
   "execution_count": 106,
   "metadata": {
    "collapsed": false
   },
   "outputs": [
    {
     "name": "stdout",
     "output_type": "stream",
     "text": [
      "42.5372831057\n",
      "43.02038581647971\n",
      "0.838032604066\n"
     ]
    }
   ],
   "source": [
    "mk = 1 / k\n",
    "print(mk)\n",
    "print(1.0/0.0232447938581)\n",
    "print(k**(-2) * sk)"
   ]
  },
  {
   "cell_type": "code",
   "execution_count": 112,
   "metadata": {
    "collapsed": false
   },
   "outputs": [
    {
     "name": "stdout",
     "output_type": "stream",
     "text": [
      "442888182924.0\n",
      "4762352.94117647\n",
      "4822206.06606\n"
     ]
    }
   ],
   "source": [
    "l0 = 1.77\n",
    "s = 0.17 * 1e-6\n",
    "mk2 = mk * 1e3\n",
    "sk2 = sk * 1e3\n",
    "print((mk2 * l0)/ s)\n",
    "print(((0.46 * 1.76) / s))\n",
    "print(l0/s * sk2)"
   ]
  },
  {
   "cell_type": "code",
   "execution_count": 108,
   "metadata": {
    "collapsed": false
   },
   "outputs": [
    {
     "name": "stdout",
     "output_type": "stream",
     "text": [
      "0.463149735158\n",
      "2529182013.986449\n"
     ]
    }
   ],
   "source": [
    "k = 447918134677.0\n",
    "print(sk2)\n",
    "print(k * ((1/177.1)**2)**0.5)"
   ]
  },
  {
   "cell_type": "code",
   "execution_count": 109,
   "metadata": {
    "collapsed": false
   },
   "outputs": [
    {
     "name": "stdout",
     "output_type": "stream",
     "text": [
      "10416700806.44186\n"
     ]
    }
   ],
   "source": [
    "print(k * (1/43**2 )**0.5)"
   ]
  },
  {
   "cell_type": "code",
   "execution_count": null,
   "metadata": {
    "collapsed": true
   },
   "outputs": [],
   "source": []
  }
 ],
 "metadata": {
  "kernelspec": {
   "display_name": "Python 3",
   "language": "python",
   "name": "python3"
  },
  "language_info": {
   "codemirror_mode": {
    "name": "ipython",
    "version": 3
   },
   "file_extension": ".py",
   "mimetype": "text/x-python",
   "name": "python",
   "nbconvert_exporter": "python",
   "pygments_lexer": "ipython3",
   "version": "3.5.1"
  }
 },
 "nbformat": 4,
 "nbformat_minor": 0
}
