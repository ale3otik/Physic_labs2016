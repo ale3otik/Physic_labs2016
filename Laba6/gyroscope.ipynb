{
 "cells": [
  {
   "cell_type": "code",
   "execution_count": 37,
   "metadata": {
    "collapsed": false
   },
   "outputs": [
    {
     "name": "stdout",
     "output_type": "stream",
     "text": [
      "среднее время периода ротора 4.73166666667\n",
      "sigma 0.0236643191324\n",
      "относительная погрешность 0.00500126505088\n"
     ]
    }
   ],
   "source": [
    "import numpy as np\n",
    "import math\n",
    "import matplotlib.pyplot as plt\n",
    "% matplotlib inline\n",
    "n = 6\n",
    "#время 6 полных колебаний ротора\n",
    "t_rot = np.array([28.20 , 28.28 , 28.37 , 28.50 , 28.40 , 28.59]) # sec\n",
    "T_rot = t_rot / 6\n",
    "T_rot_mid = np.mean(T_rot)\n",
    "sigm_rot = np.std(T_rot) * (n**0.5) / ((n-1)**0.5)\n",
    "eps = sigm_rot / T_rot_mid\n",
    "print('среднее время периода ротора ' + str(T_rot_mid))\n",
    "print('sigma ' + str(sigm_rot))\n",
    "print('относительная погрешность ' + str(eps))"
   ]
  },
  {
   "cell_type": "code",
   "execution_count": 22,
   "metadata": {
    "collapsed": false
   },
   "outputs": [
    {
     "name": "stdout",
     "output_type": "stream",
     "text": [
      "36.11\n",
      "6.01833333333\n",
      "0.0194079021707\n",
      "0.00322479681595\n"
     ]
    }
   ],
   "source": [
    "# эталон \n",
    "\n",
    "m_et = 1617.7 #g\n",
    "sigm_m = 0.1\n",
    "d_et = 7.8 #cm 2 * radius\n",
    "sigm_d = 0.1\n",
    "\n",
    "h_et = 4.1 #cm height\n",
    "n = 6\n",
    "#время 6 полных колебаний эталона\n",
    "t_et = np.array([35.97 , 36.06 , 36.25 , 36.03 , 36.25 , 36.10]) \n",
    "T_et = t_et / 6\n",
    "t_et_mid = np.mean(t_et)\n",
    "print(t_et_mid)\n",
    "T_et_mid = t_et_mid/6.0\n",
    "print(T_et_mid)\n",
    "sigm_et = np.std(T_et) * (n**0.5) / ((n-1)**0.5)\n",
    "print(sigm_et)\n",
    "eps_et = sigm_et / T_et_mid\n",
    "print(eps_et)"
   ]
  },
  {
   "cell_type": "code",
   "execution_count": 23,
   "metadata": {
    "collapsed": false
   },
   "outputs": [
    {
     "name": "stdout",
     "output_type": "stream",
     "text": [
      "I_et=0.00123026085\n"
     ]
    }
   ],
   "source": [
    "m_et = m_et * 1e-3\n",
    "d_et = d_et * 1e-2\n",
    "sigm_m *= 1e-3\n",
    "sigm_d *= 1e-2\n",
    "\n",
    "I_et = 0.5 * m_et * (d_et/2)**2\n",
    "print('I_et=' + str(I_et))"
   ]
  },
  {
   "cell_type": "markdown",
   "metadata": {},
   "source": [
    "$I_{rot} = \\frac{T^2_{rot}}{T^2_{et}} I_{et}$"
   ]
  },
  {
   "cell_type": "code",
   "execution_count": 73,
   "metadata": {
    "collapsed": false
   },
   "outputs": [
    {
     "name": "stdout",
     "output_type": "stream",
     "text": [
      "I_rot = 0.000760454111099\n"
     ]
    }
   ],
   "source": [
    "I_rot = T_rot_mid ** 2 / T_et_mid ** 2 * I_et\n",
    "print('I_rot = ' + str(I_rot))"
   ]
  },
  {
   "cell_type": "code",
   "execution_count": 74,
   "metadata": {
    "collapsed": false
   },
   "outputs": [
    {
     "name": "stdout",
     "output_type": "stream",
     "text": [
      "2.0462800334e-05\n"
     ]
    }
   ],
   "source": [
    "sigm_i = I_rot * ((sigm_m/m_et)**2 + 4*(sigm_d/d_et)**2 + 4 * (sigm_et/T_et_mid)**2 + (sigm_rot/T_rot_mid)**2)**0.5\n",
    "print(sigm_i)"
   ]
  },
  {
   "cell_type": "markdown",
   "metadata": {},
   "source": [
    "Измерим как влияет сила трения, возникающая в креплении вертикальной оси вращения и внешней части конструкции"
   ]
  },
  {
   "cell_type": "code",
   "execution_count": 138,
   "metadata": {
    "collapsed": false
   },
   "outputs": [],
   "source": [
    "t_tr = np.array([2.36, 2.30 , 2.11, 1.48, 2.51, 2.18, 2.47, 2.10 ,3.28]) #min\n",
    "n_tr = [1,1,1,1,2,2,3,3,5] # количество оборотов\n",
    "m_g = [60,76,93,116,141,173,215,268,335] # g\n",
    "dh = [3.9, 3.1, 2.7, 1.8, 2.7, 2.2, 2.5, 1.8, 1.3] #cm\n",
    "R = 18.6 * 1e-2 #cmрадус для измерения угла\n",
    "r = 12.3 * 1e-2 #плечо силы"
   ]
  },
  {
   "cell_type": "code",
   "execution_count": 95,
   "metadata": {
    "collapsed": false
   },
   "outputs": [
    {
     "name": "stdout",
     "output_type": "stream",
     "text": [
      "[ 0.04437278  0.04553033  0.04963022  0.07075659  0.08344204  0.09607317\n",
      "  0.12718999  0.14959965  0.15963377]\n"
     ]
    }
   ],
   "source": [
    "ts = 60 * t_tr\n",
    "Y = np.zeros(len(t_tr))\n",
    "for i in range(len(t_tr)) :\n",
    "    Y[i] = 2 * math.pi * n_tr[i]/ ts[i]\n",
    "mkg = 1e-3 * np.array(m_g) * 9.81 * r\n",
    "print(Y)"
   ]
  },
  {
   "cell_type": "code",
   "execution_count": 96,
   "metadata": {
    "collapsed": false
   },
   "outputs": [
    {
     "name": "stdout",
     "output_type": "stream",
     "text": [
      "0.391232175098\n",
      "0.0143308306389\n",
      "0.0229829035671\n",
      "0.00243122815089\n"
     ]
    }
   ],
   "source": [
    "X = mkg\n",
    "th = np.polyfit(X,Y,1)\n",
    "k = th[0]\n",
    "b = th[1]\n",
    "\n",
    "print(k)\n",
    "print(b)\n",
    "\n",
    "sk = 1/(len(X)**0.5) * ((np.mean(Y**2) -  np.mean(Y)**2)/(np.mean(X**2) -  np.mean(X)**2) - k**2) **0.5\n",
    "sb = sk * ((np.mean(X**2) -  np.mean(X)**2))**0.5\n",
    "print(sk)\n",
    "print(sb)\n",
    "\n",
    "OY = [k * x + b for x in X]\n",
    "\n",
    "# DY = [[ y - 129.4 , y + 129.4] for y in Y]\n",
    "# plt.figure(figsize=(15,7))\n",
    "# plt.grid(True)\n",
    "# plt.title('$u^2(F)$')\n",
    "# plt.xlabel(r'$F$,H')\n",
    "# plt.ylabel(r'$u^2$ ,$ (m/s)^2$')\n",
    "# # plt.scatter(X, Y, s=129.4 ,marker='+', color='g')\n",
    "# plt.plot(X,OY,'--r')\n",
    "# plt.plot(X,Y,'-b' , alpha=0.5)\n",
    "# for i in range(len(Y)) :\n",
    "#     plt.plot([X[i],X[i]], DY[i], color='g')\n",
    "# plt.xlim([5,25])\n",
    "# plt.ylim([7000,45000])\n",
    "# plt.savefig('u2.png') \n",
    "# plt.show()\n"
   ]
  },
  {
   "cell_type": "code",
   "execution_count": 97,
   "metadata": {
    "collapsed": false
   },
   "outputs": [
    {
     "data": {
      "image/png": "[encoded data removed]",
      "text/plain": [
       "<matplotlib.figure.Figure at 0x11055f208>"
      ]
     },
     "metadata": {},
     "output_type": "display_data"
    }
   ],
   "source": [
    "plt.figure(figsize=(15,7))\n",
    "plt.grid(True)\n",
    "plt.ylim([0.04,0.18])\n",
    "plt.plot(mkg, Y)\n",
    "plt.plot(X,OY,'--r')\n",
    "plt.scatter(X, Y, s=300 ,marker='+', color='g')\n",
    "plt.plot(X,Y,'-b' , alpha=0.5)\n",
    "plt.title(r'$\\Omega(M)$',size=20)\n",
    "plt.xlabel(r'$M$,N*m',size=20)\n",
    "plt.ylabel(r'$\\Omega$ , rad/s' , size=20)\n",
    "plt.savefig('graph.png') \n",
    "plt.show()"
   ]
  },
  {
   "cell_type": "code",
   "execution_count": 145,
   "metadata": {
    "collapsed": false
   },
   "outputs": [
    {
     "name": "stdout",
     "output_type": "stream",
     "text": [
      "0.391232175098\n",
      "0.000760454111099\n",
      "3361.18505441\n",
      "2.55602699279\n"
     ]
    }
   ],
   "source": [
    "w = 1 / (k * I_rot)\n",
    "print(k)\n",
    "print(I_rot)\n",
    "print(w)\n",
    "print(1/k)"
   ]
  },
  {
   "cell_type": "code",
   "execution_count": 99,
   "metadata": {
    "collapsed": false
   },
   "outputs": [
    {
     "name": "stdout",
     "output_type": "stream",
     "text": [
      "217.181504065\n"
     ]
    }
   ],
   "source": [
    "sw = w * ( (sk/k)**2 + (sigm_i/I_rot)**2)**0.5\n",
    "print(sw)"
   ]
  },
  {
   "cell_type": "markdown",
   "metadata": {},
   "source": [
    "Частота полученная с помощью звукового генератора : 480 Гц"
   ]
  },
  {
   "cell_type": "code",
   "execution_count": 100,
   "metadata": {
    "collapsed": false
   },
   "outputs": [
    {
     "name": "stdout",
     "output_type": "stream",
     "text": [
      "3015.928947446201\n"
     ]
    }
   ],
   "source": [
    "print(2 * math.pi * 480)"
   ]
  },
  {
   "cell_type": "code",
   "execution_count": 139,
   "metadata": {
    "collapsed": false
   },
   "outputs": [
    {
     "name": "stdout",
     "output_type": "stream",
     "text": [
      "[ 0.20967742  0.16666667  0.14516129  0.09677419  0.14516129  0.11827957\n",
      "  0.1344086   0.09677419  0.06989247]\n"
     ]
    }
   ],
   "source": [
    "dphi = 1/R *  1e-2 * np.array(dh)\n",
    "print(dphi)"
   ]
  },
  {
   "cell_type": "code",
   "execution_count": 136,
   "metadata": {
    "collapsed": false
   },
   "outputs": [
    {
     "data": {
      "image/png": "[encoded data removed]",
      "text/plain": [
       "<matplotlib.figure.Figure at 0x1108a94e0>"
      ]
     },
     "metadata": {},
     "output_type": "display_data"
    }
   ],
   "source": [
    "plt.plot(mkg,dphi)\n",
    "plt.show()"
   ]
  },
  {
   "cell_type": "code",
   "execution_count": 147,
   "metadata": {
    "collapsed": false
   },
   "outputs": [
    {
     "name": "stdout",
     "output_type": "stream",
     "text": [
      "0.000383547256551\n"
     ]
    },
    {
     "data": {
      "image/png": "[encoded data removed]",
      "text/plain": [
       "<matplotlib.figure.Figure at 0x1103904a8>"
      ]
     },
     "metadata": {},
     "output_type": "display_data"
    }
   ],
   "source": [
    "wphi = k * (dphi / ts)\n",
    "print(np.mean(wphi))\n",
    "wdh = np.array(dh) / ts\n",
    "# print(wphi)\n",
    "plt.figure(figsize=(15,6))\n",
    "plt.grid(True)\n",
    "plt.plot(mkg,wphi)\n",
    "plt.xlabel(r'M, N*m' , size=20)\n",
    "plt.ylabel(r'$M_{tr}$ , N*m' , size=20)\n",
    "plt.savefig('graph3.png') \n",
    "plt.show()"
   ]
  }
 ],
 "metadata": {
  "kernelspec": {
   "display_name": "Python 3",
   "language": "python",
   "name": "python3"
  },
  "language_info": {
   "codemirror_mode": {
    "name": "ipython",
    "version": 3
   },
   "file_extension": ".py",
   "mimetype": "text/x-python",
   "name": "python",
   "nbconvert_exporter": "python",
   "pygments_lexer": "ipython3",
   "version": "3.5.1"
  }
 },
 "nbformat": 4,
 "nbformat_minor": 0
}
