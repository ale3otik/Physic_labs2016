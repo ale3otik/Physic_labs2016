{
 "cells": [
  {
   "cell_type": "code",
   "execution_count": 18,
   "metadata": {
    "collapsed": false
   },
   "outputs": [
    {
     "name": "stdout",
     "output_type": "stream",
     "text": [
      "среднее время периода ротора 4.73166666667\n",
      "sigma 0.0236643191324\n",
      "относительная погрешность 0.00500126505088\n"
     ]
    }
   ],
   "source": [
    "import numpy as np\n",
    "n = 6\n",
    "#время 6 полных колебаний ротора\n",
    "t_rot = np.array([28.20 , 28.28 , 28.37 , 28.50 , 28.40 , 28.59]) # sec\n",
    "T_rot = t_rot / 6\n",
    "T_rot_mid = np.mean(T_rot)\n",
    "sigm_rot = np.std(T_rot) * (n**0.5) / ((n-1)**0.5)\n",
    "eps = sigm_rot / T_rot_mid\n",
    "print('среднее время периода ротора ' + str(T_rot_mid))\n",
    "print('sigma ' + str(sigm_rot))\n",
    "print('относительная погрешность ' + str(eps))"
   ]
  },
  {
   "cell_type": "code",
   "execution_count": 14,
   "metadata": {
    "collapsed": false
   },
   "outputs": [
    {
     "name": "stdout",
     "output_type": "stream",
     "text": [
      "36.11\n",
      "6.01833333333\n",
      "0.0194079021707\n",
      "0.00322479681595\n"
     ]
    }
   ],
   "source": [
    "# эталон \n",
    "\n",
    "m_et = 1617.7 #g\n",
    "d_et = 7.8 #cm 2 * radius\n",
    "h_et = 4.1 #cm height\n",
    "n = 6\n",
    "#время 6 полных колебаний эталона\n",
    "t_et = np.array([35.97 , 36.06 , 36.25 , 36.03 , 36.25 , 36.10]) \n",
    "T_et = t_et / 6\n",
    "t_et_mid = np.mean(t_et)\n",
    "print(t_et_mid)\n",
    "T_et_mid = t_et_mid/6.0\n",
    "print(T_et_mid)\n",
    "sigm_et = np.std(T_et) * (n**0.5) / ((n-1)**0.5)\n",
    "print(sigm_et)\n",
    "eps_et = sigm_et / T_et_mid\n",
    "print(eps_et)"
   ]
  },
  {
   "cell_type": "code",
   "execution_count": 20,
   "metadata": {
    "collapsed": false
   },
   "outputs": [
    {
     "name": "stdout",
     "output_type": "stream",
     "text": [
      "I_et=0.00123026085\n"
     ]
    }
   ],
   "source": [
    "m_et = m_et * 1e-03\n",
    "d_et = d_et * 1e-02\n",
    "\n",
    "I_et = 0.5 * m_et * (d_et/2)**2\n",
    "print('I_et=' + str(I_et))"
   ]
  },
  {
   "cell_type": "markdown",
   "metadata": {},
   "source": [
    "$I_{rot} = \\frac{T^2_{rot}}{T^2_{et}} I_{et}$"
   ]
  },
  {
   "cell_type": "code",
   "execution_count": 21,
   "metadata": {
    "collapsed": false
   },
   "outputs": [
    {
     "name": "stdout",
     "output_type": "stream",
     "text": [
      "I_rot = 0.000760454111099\n"
     ]
    }
   ],
   "source": [
    "I_rot = T_rot_mid ** 2 / T_et_mid ** 2 * I_et\n",
    "print('I_rot = ' + str(I_rot))"
   ]
  },
  {
   "cell_type": "markdown",
   "metadata": {},
   "source": [
    "Измерим как влияет сила трения, возникающая в креплении вертикальной оси вращения и внешней части конструкции"
   ]
  },
  {
   "cell_type": "code",
   "execution_count": 23,
   "metadata": {
    "collapsed": false
   },
   "outputs": [
    {
     "name": "stdout",
     "output_type": "stream",
     "text": [
      "11.6\n"
     ]
    }
   ],
   "source": [
    "t_tr = [2.30, 2.36, 2.11, 1.48, 2.51, 2.18, 2.47, 2.10 ,3.28] #min\n",
    "n_tr = [1,1,1,1,2,2,3,3,4] # количество оборотов\n",
    "m_g = [60,76,93,116,141,173,215,268,335] # g\n",
    "dh = [3.9, 2.6, 2.0, 1.7, 3.1, 2.2, 2.5, 2.1, 1.3] #cm\n",
    "R = 18.6 #cmрадус для измерения угла\n",
    "r = 12.3 #плечо силы"
   ]
  },
  {
   "cell_type": "markdown",
   "metadata": {},
   "source": [
    "Частота полученная с помощью звукового генератора : 480 Гц"
   ]
  }
 ],
 "metadata": {
  "kernelspec": {
   "display_name": "Python 3",
   "language": "python",
   "name": "python3"
  },
  "language_info": {
   "codemirror_mode": {
    "name": "ipython",
    "version": 3
   },
   "file_extension": ".py",
   "mimetype": "text/x-python",
   "name": "python",
   "nbconvert_exporter": "python",
   "pygments_lexer": "ipython3",
   "version": "3.5.1"
  }
 },
 "nbformat": 4,
 "nbformat_minor": 0
}
